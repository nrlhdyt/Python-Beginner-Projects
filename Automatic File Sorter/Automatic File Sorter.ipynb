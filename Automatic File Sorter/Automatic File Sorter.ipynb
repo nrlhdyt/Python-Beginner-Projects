{
 "cells": [
  {
   "cell_type": "markdown",
   "id": "bee872a3",
   "metadata": {},
   "source": [
    "# Automatic File Sorter"
   ]
  },
  {
   "cell_type": "code",
   "execution_count": 1,
   "id": "ad9cc239",
   "metadata": {},
   "outputs": [],
   "source": [
    "import os, shutil"
   ]
  },
  {
   "cell_type": "code",
   "execution_count": 2,
   "id": "22792036",
   "metadata": {},
   "outputs": [],
   "source": [
    "path = r\"C:/Users/hiday/Downloads/\""
   ]
  },
  {
   "cell_type": "code",
   "execution_count": 3,
   "id": "b82c28cd",
   "metadata": {},
   "outputs": [
    {
     "name": "stdout",
     "output_type": "stream",
     "text": [
      "['.opera', 'AccessDatabaseEngine.exe', 'ADRO_2006-01-01_to_2022-03-16.csv', 'Aerial Weapon Missile 1.docx', 'Aerial Weapon Missile 2 and 3.docx', 'Aerial Weapon Missile 4.docx', 'Anaconda3-2023.09-0-Windows-x86_64.exe', 'archive (1)', 'archive (1).zip', 'Blood Bank Management System Report.pdf', 'ChromeSetup.exe', 'Config server Formula (1).xlsx', 'Copy of ubah-sekaligus-13731825-(10)-20240507095451.276.xlsx', 'Copy of ubah-sekaligus-13731825-(11)-20240507095451.276.xlsx', 'Copy of ubah-sekaligus-13731825-(12)-20240507095451.276.xlsx', 'Copy of ubah-sekaligus-13731825-(13)-20240507095456.484.xlsx', 'Copy of ubah-sekaligus-13731825-(14)-20240507095456.484.xlsx', 'Copy of ubah-sekaligus-13731825-(15)-20240507095456.484.xlsx', 'Copy of ubah-sekaligus-13731825-(16)-20240507095456.578.xlsx', 'Copy of ubah-sekaligus-13731825-(2)-20240508094551.545.xlsx', 'Copy of ubah-sekaligus-13731825-(3)-20240508094551.545.xlsx', 'Copy of ubah-sekaligus-13731825-(4)-20240508094551.545.xlsx', 'Copy of ubah-sekaligus-13731825-(5)-20240507095445.010.xlsx', 'Copy of ubah-sekaligus-13731825-(5)-20240508094557.506.xlsx', 'Copy of ubah-sekaligus-13731825-(6)-20240507095445.010.xlsx', 'Copy of ubah-sekaligus-13731825-(6)-20240508094557.506.xlsx', 'Copy of ubah-sekaligus-13731825-(7)-20240507095445.010.xlsx', 'Copy of ubah-sekaligus-13731825-(7)-20240508094557.506.xlsx', 'Copy of ubah-sekaligus-13731825-(8)-20240507095445.010.xlsx', 'Copy of ubah-sekaligus-13731825-(8)-20240508094557.506.xlsx', 'Copy of ubah-sekaligus-13731825-(9)-20240507095451.276.xlsx', 'Copy of ubah-sekaligus-13731825-(9)-20240508094600.454.xlsx', 'Data client.xlsx', 'DEAL_20240120_88988890_65ab5a08da1d5.xls', 'DEAL_20240120_88988890_65ab7bcb40922.xls', 'DEAL_20240123_1191d92a_65af42e5abcd9(1).xls', 'DEAL_20240508_b37ccafc_663afc3879422.xls', 'DEAL_20240508_b37ccafc_663afc3879422_files', 'desktop.ini', 'Foodie_Database(.bak File)', 'Friday post.zip', 'GOG_Galaxy_Talisman_Digital_Edition.exe', 'hamachi-2.3.0.106-installer.exe', 'hamachi-2.3.0.106-installer_n-I8hg1.exe', 'Hidayati-Nurul.pdf', 'image (60).png', 'mass_update_sales_info_633534769_20240507133703.xlsx', 'mass_update_sales_info_633534769_20240508111344.xlsx', 'Monday Post.zip', 'MTGAInstaller.exe', 'mysql-installer-community-8.0.35.0.msi', 'Nashville Housing Data for Data Cleaning.xlsx', 'Nurul Hidayati_Covering Letter.pdf', 'Nurul Hidayati_Ijazah and Certificates.pdf', 'NurulHidayati_Freelance_test_MYS_IDN_Telecollection_24_11_23_v1_4_AR.xlsx', 'Nurul_Hidayati_-_Cover_Letter.pdf', 'Nurul_Hidayati_-_Project_Manager.docx', 'Nurul_Hidayati_-_Project_Manager.pdf', 'Nurul_Hidayati_.pdf', 'product_items_fix.xlsx', 'programming language trend over time.csv', 'report-Demand-ep@admin2235-2024-01-23-18-04-38.xls', 'report-Processing-ep@admin2235-2024-01-23-18-06-34.xls', 'report-Stock-ep@admin2235-2024-04-18-12-04-59.xls', 'report-Stock-ep@admin2235-2024-05-06-05-14-36.xls', 'report-Stock-ep@admin2235-2024-05-07-05-27-06.xls', 'report-Stock-ep@admin2235-2024-05-08-05-05-59.xls', 'SalesHistory.csv', 'SalesItem.csv', 'sales_data_sample.csv', 'SQL2022-SSEI-Expr.exe', 'SSMS-Setup-ENU.exe', 'TableauAutoUpdate', 'TableauPublicDesktop-64bit-2023-3-0.exe', 'Tokopedia_stores_scrap.xlsx', 'Totally.Killer.2023.1080p.WEBRip.x264.AAC5.1-[YTS.MX].English.srt', 'Tuesday Post.zip', 'ubah-sekaligus-13731825-2852861-folder-20240507095456.608.zip', 'ubah-sekaligus-13731825-2855811-folder-20240508094600.533.zip', 'Untitled design (1).mp4', 'Untitled design.mp4', 'Untitled.png', 'vlc-3.0.20-win64.exe', 'WalmartSalesData.csv.csv', 'wc-product-export-7-5-2024-1715070908574.csv', 'wc-product-export-7-5-2024-1715070908574.xlsx', 'wc-product-export-7-5-2024-1715071128287.csv', 'wc-product-export-7-5-2024-1715071128287.xlsx', 'wc-product-export-8-5-2024-1715157213124.csv', 'wc-product-export-8-5-2024-1715157213124.xlsx', 'wc-product-export-8-5-2024-1715157390734 (1).csv', 'wc-product-export-8-5-2024-1715157390734.csv', 'wc-product-export-8-5-2024-1715157390734.xlsx', 'wc-product-export-8-5-2024-1715161558202.csv', 'wc-product-export-8-5-2024-1715165019321.csv', 'wc-product-export-8-5-2024-1715165019321.xlsx', 'Web.xlsx', 'web2.csv', 'web2.xlsx', 'web3 (1).csv', 'web3 (2).csv', 'web3.csv', 'web3.xlsx', 'Wednesday Post.zip', 'Wednesday Story Tips And Trick (1).mp4', 'Wednesday Story Tips And Trick (2).mp4', 'Wednesday Story Tips And Trick (3).mp4', 'Wednesday Story Tips And Trick.mp4', 'WhatsApp Image 2023-12-01 at 13.22.34.jpeg', 'WhatsApp Image 2023-12-26 at 21.36.27.jpeg', 'WhatsApp Image 2023-12-26 at 21.36.29.jpeg', 'WhatsApp Image 2023-12-26 at 21.36.30.jpeg', 'WhatsApp Image 2023-12-31 at 07.03.08.jpeg', 'WhatsApp Image 2024-01-01 at 09.08.48.jpeg', 'WhatsApp Image 2024-01-01 at 09.10.31.jpeg', 'WhatsApp Video 2024-05-06 at 17.35.07.mp4', 'WhatsApp Video 2024-05-06 at 17.36.11.mp4', 'WhatsApp Video 2024-05-06 at 17.40.43.mp4', 'WhatsApp Video 2024-05-06 at 17.42.55.mp4', 'WhatsApp Video 2024-05-06 at 17.48.38.mp4']\n"
     ]
    }
   ],
   "source": [
    "fileNames = os.listdir(path)\n",
    "print(fileNames)"
   ]
  },
  {
   "cell_type": "code",
   "execution_count": 7,
   "id": "99d639a0",
   "metadata": {},
   "outputs": [],
   "source": [
    "folderNames = ['Words Docs', 'Excel Docs', 'Images', 'Videos', 'Text File']"
   ]
  },
  {
   "cell_type": "code",
   "execution_count": 10,
   "id": "1cbc668a",
   "metadata": {},
   "outputs": [
    {
     "name": "stdout",
     "output_type": "stream",
     "text": [
      "C:/Users/hiday/Downloads/Words Docs\n",
      "C:/Users/hiday/Downloads/Excel Docs\n",
      "C:/Users/hiday/Downloads/Images\n",
      "C:/Users/hiday/Downloads/Videos\n",
      "C:/Users/hiday/Downloads/Text File\n"
     ]
    }
   ],
   "source": [
    "for file in range(0,5):\n",
    "    if not os.path.exists(path+folderNames[file]):\n",
    "        print(path+folderNames[file])\n",
    "        os.makedirs(path+folderNames[file])"
   ]
  },
  {
   "cell_type": "code",
   "execution_count": 11,
   "id": "706fb649",
   "metadata": {},
   "outputs": [],
   "source": [
    "for files in fileNames:\n",
    "    if \".csv\" in files and not os.path.exists(path+\"Text File/\"+files):\n",
    "        shutil.move(path+files,path+\"Text File/\"+files)\n",
    "    elif \".docx\" in files and not os.path.exists(path+\"Words Docs/\"+files):\n",
    "        shutil.move(path+files,path+\"Words Docs/\"+files)\n",
    "    elif \".pdf\" in files and not os.path.exists(path+\"Words Docs/\"+files):\n",
    "        shutil.move(path+files,path+\"Words Docs/\"+files)\n",
    "    elif \".xls\" in files and not os.path.exists(path+\"Excel Docs/\"+files):\n",
    "        shutil.move(path+files,path+\"Excel Docs/\"+files)\n",
    "    elif \".xlsx\" in files and not os.path.exists(path+\"Excel Docs/\"+files):\n",
    "        shutil.move(path+files,path+\"Excel Docs/\"+files)\n",
    "    elif \".jpg\" in files and not os.path.exists(path+\"Images/\"+files):\n",
    "        shutil.move(path+files,path+\"Images/\"+files)\n",
    "    elif \".jpeg\" in files and not os.path.exists(path+\"Images/\"+files):\n",
    "        shutil.move(path+files,path+\"Images/\"+files)\n",
    "    elif \".png\" in files and not os.path.exists(path+\"Images/\"+files):\n",
    "        shutil.move(path+files,path+\"Images/\"+files)\n",
    "    elif \".mp4\" in files and not os.path.exists(path+\"Videos/\"+files):\n",
    "        shutil.move(path+files,path+\"Videos/\"+files)\n"
   ]
  },
  {
   "cell_type": "code",
   "execution_count": null,
   "id": "9493c1ec",
   "metadata": {},
   "outputs": [],
   "source": []
  }
 ],
 "metadata": {
  "kernelspec": {
   "display_name": "Python 3 (ipykernel)",
   "language": "python",
   "name": "python3"
  },
  "language_info": {
   "codemirror_mode": {
    "name": "ipython",
    "version": 3
   },
   "file_extension": ".py",
   "mimetype": "text/x-python",
   "name": "python",
   "nbconvert_exporter": "python",
   "pygments_lexer": "ipython3",
   "version": "3.11.5"
  }
 },
 "nbformat": 4,
 "nbformat_minor": 5
}
