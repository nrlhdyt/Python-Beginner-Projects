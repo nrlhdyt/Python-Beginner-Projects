{
 "cells": [
  {
   "cell_type": "markdown",
   "id": "4971d03a",
   "metadata": {},
   "source": [
    "# BMI Calculator"
   ]
  },
  {
   "cell_type": "code",
   "execution_count": 2,
   "id": "87d464f8",
   "metadata": {},
   "outputs": [],
   "source": [
    "#BMI = (weigh in pounds x 703) / (height in inches x height in inches)"
   ]
  },
  {
   "cell_type": "code",
   "execution_count": 20,
   "id": "6661b937",
   "metadata": {},
   "outputs": [
    {
     "name": "stdout",
     "output_type": "stream",
     "text": [
      "Enter your name: 50\n",
      "Enter your weight in kg: 140\n",
      "Enter your height in cm: 44\n",
      "50  you are Obesity  765.29\n"
     ]
    }
   ],
   "source": [
    "name = input(\"Enter your name: \")\n",
    "weight = int(input(\"Enter your weight in kg: \"))\n",
    "height = int(input(\"Enter your height in cm: \"))\n",
    "weight_2 = weight*2.205\n",
    "height_2 = height*0.39\n",
    "\n",
    "BMI = round(((weight_2 * 730) / (height_2 **2)),2)\n",
    "\n",
    "if BMI > 0:\n",
    "    if BMI >= 30:\n",
    "        print(name, \" you are Obesity \", BMI)\n",
    "    elif BMI >= 25 and BMI <= 29: \n",
    "        print(name, \" you are Overweight \", BMI)\n",
    "    elif BMI >= 18.5 and BMI <= 24.9:\n",
    "        print(name, \" you are Healthy weight \", BMI)\n",
    "    else:\n",
    "        print(name, \" you are Underweight \", BMI)\n",
    "else:\n",
    "    print(\"Invalid number\")"
   ]
  },
  {
   "cell_type": "code",
   "execution_count": null,
   "id": "f94ce589",
   "metadata": {},
   "outputs": [],
   "source": []
  }
 ],
 "metadata": {
  "kernelspec": {
   "display_name": "Python 3 (ipykernel)",
   "language": "python",
   "name": "python3"
  },
  "language_info": {
   "codemirror_mode": {
    "name": "ipython",
    "version": 3
   },
   "file_extension": ".py",
   "mimetype": "text/x-python",
   "name": "python",
   "nbconvert_exporter": "python",
   "pygments_lexer": "ipython3",
   "version": "3.11.5"
  }
 },
 "nbformat": 4,
 "nbformat_minor": 5
}
